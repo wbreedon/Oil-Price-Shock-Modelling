{
 "cells": [
  {
   "cell_type": "code",
   "execution_count": 1,
   "metadata": {},
   "outputs": [],
   "source": [
    "#running cells sequentially from top to bottom should successfully reproduce the research\n",
    "\n",
    "#you may occasionally need to reimport statsmodels.api\n",
    "\n",
    "import econml\n",
    "import pandas as pd\n",
    "\n",
    "import statsmodels.api as sm\n",
    "\n",
    "from statsmodels.tsa.arima.model import ARIMA"
   ]
  },
  {
   "cell_type": "code",
   "execution_count": 2,
   "metadata": {},
   "outputs": [
    {
     "name": "stdout",
     "output_type": "stream",
     "text": [
      "           DATE  POILBREUSDM        GDP  Price level  Maj_event\n",
      "24   01/01/1992    18.550000   9486.357    66.578685        0.0\n",
      "25   01/02/1992    18.480000   9527.533    66.716169        0.0\n",
      "26   01/03/1992    17.590000   9606.143    66.801102        0.0\n",
      "27   01/04/1992    19.060000   9612.489    67.030025        0.0\n",
      "28   01/05/1992    20.030000   9594.652    67.058037        0.0\n",
      "..          ...          ...        ...          ...        ...\n",
      "377  01/06/2021    73.067273  19409.726   117.999898        0.0\n",
      "378  01/07/2021    74.386818  19339.425   118.593639        0.0\n",
      "379  01/08/2021    70.020909  19518.596   119.096085        0.0\n",
      "380  01/09/2021    74.598182  19577.018   119.569368        0.0\n",
      "381  01/10/2021    83.650000  19874.681   120.321122        0.0\n",
      "\n",
      "[358 rows x 5 columns]\n"
     ]
    }
   ],
   "source": [
    "data = pd.read_csv(\"C:\\datasets\\POILBREUSDM2.csv\")#original data with price level derived\n",
    "\n",
    "\n",
    "#print(data)\n",
    "\n",
    "truncated_data = data\n",
    "truncated_data = truncated_data.dropna() #our monthly GDP dataset only goes back to 1992, this oil dataset stops at 1990\n",
    "print(truncated_data)\n",
    "\n",
    "#truncated_data(\"Lag-GDP\") = truncated_data(\"GDP\")\n"
   ]
  },
  {
   "cell_type": "code",
   "execution_count": 3,
   "metadata": {},
   "outputs": [
    {
     "name": "stderr",
     "output_type": "stream",
     "text": [
      "<ipython-input-3-48c48c69fb11>:4: SettingWithCopyWarning: \n",
      "A value is trying to be set on a copy of a slice from a DataFrame.\n",
      "Try using .loc[row_indexer,col_indexer] = value instead\n",
      "\n",
      "See the caveats in the documentation: https://pandas.pydata.org/pandas-docs/stable/user_guide/indexing.html#returning-a-view-versus-a-copy\n",
      "  truncated_data['lag_' + str(lag)] = truncated_data.POILBREUSDM.shift(lag)\n"
     ]
    }
   ],
   "source": [
    "num_lags = 24\n",
    "\n",
    "for lag in range(1, (num_lags + 1), 1):\n",
    "    truncated_data['lag_' + str(lag)] = truncated_data.POILBREUSDM.shift(lag)"
   ]
  },
  {
   "cell_type": "code",
   "execution_count": 4,
   "metadata": {},
   "outputs": [
    {
     "name": "stdout",
     "output_type": "stream",
     "text": [
      "           DATE  POILBREUSDM        GDP  Price level  Maj_event      lag_1  \\\n",
      "24   01/01/1992    18.550000   9486.357    66.578685        0.0        NaN   \n",
      "25   01/02/1992    18.480000   9527.533    66.716169        0.0  18.550000   \n",
      "26   01/03/1992    17.590000   9606.143    66.801102        0.0  18.480000   \n",
      "27   01/04/1992    19.060000   9612.489    67.030025        0.0  17.590000   \n",
      "28   01/05/1992    20.030000   9594.652    67.058037        0.0  19.060000   \n",
      "..          ...          ...        ...          ...        ...        ...   \n",
      "377  01/06/2021    73.067273  19409.726   117.999898        0.0  68.043333   \n",
      "378  01/07/2021    74.386818  19339.425   118.593639        0.0  73.067273   \n",
      "379  01/08/2021    70.020909  19518.596   119.096085        0.0  74.386818   \n",
      "380  01/09/2021    74.598182  19577.018   119.569368        0.0  70.020909   \n",
      "381  01/10/2021    83.650000  19874.681   120.321122        0.0  74.598182   \n",
      "\n",
      "         lag_2      lag_3      lag_4      lag_5  ...     lag_15     lag_16  \\\n",
      "24         NaN        NaN        NaN        NaN  ...        NaN        NaN   \n",
      "25         NaN        NaN        NaN        NaN  ...        NaN        NaN   \n",
      "26   18.550000        NaN        NaN        NaN  ...        NaN        NaN   \n",
      "27   18.480000  18.550000        NaN        NaN  ...        NaN        NaN   \n",
      "28   17.590000  18.480000  18.550000        NaN  ...        NaN        NaN   \n",
      "..         ...        ...        ...        ...  ...        ...        ...   \n",
      "377  64.770000  65.186957  61.963500  54.551429  ...  32.981818  55.003500   \n",
      "378  68.043333  64.770000  65.186957  61.963500  ...  23.337273  32.981818   \n",
      "379  73.067273  68.043333  64.770000  65.186957  ...  31.024762  23.337273   \n",
      "380  74.386818  73.067273  68.043333  64.770000  ...  39.927273  31.024762   \n",
      "381  70.020909  74.386818  73.067273  68.043333  ...  42.813478  39.927273   \n",
      "\n",
      "        lag_17     lag_18     lag_19     lag_20     lag_21     lag_22  \\\n",
      "24         NaN        NaN        NaN        NaN        NaN        NaN   \n",
      "25         NaN        NaN        NaN        NaN        NaN        NaN   \n",
      "26         NaN        NaN        NaN        NaN        NaN        NaN   \n",
      "27         NaN        NaN        NaN        NaN        NaN        NaN   \n",
      "28         NaN        NaN        NaN        NaN        NaN        NaN   \n",
      "..         ...        ...        ...        ...        ...        ...   \n",
      "377  63.602174  65.854545  62.744286  59.370000  62.330000  59.247273   \n",
      "378  55.003500  63.602174  65.854545  62.744286  59.370000  62.330000   \n",
      "379  32.981818  55.003500  63.602174  65.854545  62.744286  59.370000   \n",
      "380  23.337273  32.981818  55.003500  63.602174  65.854545  62.744286   \n",
      "381  31.024762  23.337273  32.981818  55.003500  63.602174  65.854545   \n",
      "\n",
      "        lag_23     lag_24  \n",
      "24         NaN        NaN  \n",
      "25         NaN        NaN  \n",
      "26         NaN        NaN  \n",
      "27         NaN        NaN  \n",
      "28         NaN        NaN  \n",
      "..         ...        ...  \n",
      "377  64.000000  63.296000  \n",
      "378  59.247273  64.000000  \n",
      "379  62.330000  59.247273  \n",
      "380  59.370000  62.330000  \n",
      "381  62.744286  59.370000  \n",
      "\n",
      "[358 rows x 29 columns]\n"
     ]
    }
   ],
   "source": [
    "print(truncated_data) #these lag values are not directly used"
   ]
  },
  {
   "cell_type": "code",
   "execution_count": 5,
   "metadata": {},
   "outputs": [],
   "source": [
    "#sm.tsa.arima_model.ARMA(truncated_data[2], order=(24, 1), dates=truncated_data[0], freq=M)\n",
    "#sm.tsa.arima.ARMA(truncated_data[2], order=(24, 1), dates=truncated_data[0], freq=M)\n",
    "#sm.tsa.arima_model.ARMA(truncated_data[2], order=(24, 1), dates=truncated_data[0], freq=M)\n"
   ]
  },
  {
   "cell_type": "code",
   "execution_count": 6,
   "metadata": {},
   "outputs": [
    {
     "name": "stdout",
     "output_type": "stream",
     "text": [
      "0      21.250000\n",
      "1      19.930000\n",
      "2      18.370000\n",
      "3      16.490000\n",
      "4      16.340000\n",
      "         ...    \n",
      "377    73.067273\n",
      "378    74.386818\n",
      "379    70.020909\n",
      "380    74.598182\n",
      "381    83.650000\n",
      "Name: POILBREUSDM, Length: 382, dtype: float64\n",
      "(-2.168610396967283, 0.2178346307531666, 1, 380, {'1%': -3.4476763783532585, '5%': -2.869176103659426, '10%': -2.570837873961219}, 2125.079366569578)\n"
     ]
    },
    {
     "data": {
      "image/png": "[encoded data removed]",
      "text/plain": [
       "<Figure size 432x288 with 1 Axes>"
      ]
     },
     "metadata": {
      "needs_background": "light"
     },
     "output_type": "display_data"
    }
   ],
   "source": [
    "from statsmodels.tsa.stattools import adfuller\n",
    "import matplotlib.pyplot as plt\n",
    "series = data.POILBREUSDM\n",
    "print(series)\n",
    "oil = series.values\n",
    "test_statistics = adfuller(oil)\n",
    "print(test_statistics) #first result is test statistic, 2nd result p-value\n",
    "#in this example we can accept the null hypothesis that it has a unit root\n",
    "#since -2.16 > -2.57 so we fail to reject at 1%, 5%, 10% significance levels\n",
    "plt.xlabel(\"Time period (months)\")\n",
    "plt.ylabel(\"Oil price\")\n",
    "plt.plot(oil)\n",
    "plt.show()#we need to apply additional processing to make this series stationary\n",
    "\n",
    "#subtract linear time trend via differencing\n",
    "\n",
    "diff = []\n",
    "differ = 0\n",
    "for i in range(2, 382, 1): #len(oil) is 382\n",
    "    differ = oil[i] - oil[i-1]\n",
    "    diff.append(differ)\n",
    "#print(diff) for test purposes\n",
    "\n",
    "\n",
    "\n",
    "\n"
   ]
  },
  {
   "cell_type": "code",
   "execution_count": 16,
   "metadata": {},
   "outputs": [
    {
     "name": "stdout",
     "output_type": "stream",
     "text": [
      "358\n",
      "(-12.369142760311092, 5.330017793649339e-23, 0, 356, {'1%': -3.448853029339765, '5%': -2.869693115704379, '10%': -2.571113512498422}, 2004.543914037329)\n"
     ]
    },
    {
     "data": {
      "image/png": "[encoded data removed]",
      "text/plain": [
       "<Figure size 432x288 with 1 Axes>"
      ]
     },
     "metadata": {
      "needs_background": "light"
     },
     "output_type": "display_data"
    }
   ],
   "source": [
    "\n",
    "#subtract linear time trend via differencing\n",
    "oil = truncated_data.POILBREUSDM\n",
    "print(len(oil))\n",
    "diff = []\n",
    "differ = 0\n",
    "for i in range(25, 382, 1): #len(oil) is 358\n",
    "    differ = oil[i] - oil[i-1]\n",
    "    diff.append(differ)\n",
    "#print(diff) for test purposes\n",
    "\n",
    "#oil = series.values\n",
    "test_statistics = adfuller(diff)\n",
    "print(test_statistics) #first result is test statistic, 2nd result p-value\n",
    "#in this example we can accept the null hypothesis that it has a unit root\n",
    "#since -2.16 > -2.57 so we fail to reject at 1%, 5%, 10% significance levels\n",
    "plt.xlabel(\"Time(months)\")\n",
    "plt.ylabel(\"Difference in oil price ($)\")\n",
    "plt.plot(diff)\n",
    "plt.show()#we need to apply additional processing to make this series stationary\n",
    "#-12.6 < -3.44 can reject H0 at all 3 significance levels including 1%\n",
    "#this means we have successfully detrended the series and it is now stationary"
   ]
  },
  {
   "cell_type": "code",
   "execution_count": 8,
   "metadata": {},
   "outputs": [
    {
     "name": "stdout",
     "output_type": "stream",
     "text": [
      "(-0.49693318954043325, 0.892613575947117, 6, 351, {'1%': -3.44911857009962, '5%': -2.8698097654570507, '10%': -2.5711757061225153}, 4396.408721727736)\n"
     ]
    },
    {
     "data": {
      "image/png": "[encoded data removed]",
      "text/plain": [
       "<Figure size 432x288 with 1 Axes>"
      ]
     },
     "metadata": {
      "needs_background": "light"
     },
     "output_type": "display_data"
    }
   ],
   "source": [
    "#now do the same with GDP\n",
    "\n",
    "series = truncated_data.GDP\n",
    "gdp = series.values\n",
    "test_statistics = adfuller(gdp)\n",
    "print(test_statistics)\n",
    "plt.xlabel(\"Time period (months)\")\n",
    "plt.ylabel(\"Real GDP $S\")\n",
    "plt.plot(gdp)\n",
    "plt.show()\n",
    "#this is obviously not stationary, but we can subtract a linear time trend as before"
   ]
  },
  {
   "cell_type": "code",
   "execution_count": 9,
   "metadata": {},
   "outputs": [
    {
     "name": "stdout",
     "output_type": "stream",
     "text": [
      "358\n"
     ]
    }
   ],
   "source": [
    "print(len(oil))"
   ]
  },
  {
   "cell_type": "code",
   "execution_count": 17,
   "metadata": {},
   "outputs": [
    {
     "name": "stdout",
     "output_type": "stream",
     "text": [
      "356\n",
      "(-10.348564864491545, 2.5723211919596015e-18, 5, 350, {'1%': -3.4491725955218655, '5%': -2.8698334971428574, '10%': -2.5711883591836733}, 4370.878029415451)\n"
     ]
    },
    {
     "data": {
      "image/png": "[encoded data removed]",
      "text/plain": [
       "<Figure size 432x288 with 1 Axes>"
      ]
     },
     "metadata": {
      "needs_background": "light"
     },
     "output_type": "display_data"
    }
   ],
   "source": [
    "\n",
    "diff_gdp = []\n",
    "differ = 0\n",
    "for i in range(2, 358, 1): #len(oil) is 382\n",
    "    differ = gdp[i] - gdp[i-1]\n",
    "    diff_gdp.append(differ)\n",
    "#print(diff) for test purposes\n",
    "print(len(diff_gdp))\n",
    "#oil = series.values\n",
    "test_statistics = adfuller(diff_gdp)\n",
    "print(test_statistics) #first result is test statistic, 2nd result p-value\n",
    "plt.xlabel(\"Time period(months)\")\n",
    "plt.ylabel(\"Monthly difference in GDP ($)\")\n",
    "plt.plot(diff_gdp)\n",
    "plt.show()#we need to apply additional processing to make this series stationary\n",
    "#-10.3 < -3.44 can reject H0 at all 3 significance levels including 1%\n",
    "#this means we have successfully detrended the series and it is now stationary"
   ]
  },
  {
   "cell_type": "code",
   "execution_count": 11,
   "metadata": {},
   "outputs": [],
   "source": [
    "detrended_data = truncated_data\n",
    "\n",
    "#detrended_data.POILBRUESDM = diff\n",
    "#detrended_data.gdp = diff_gdp\n",
    "\n",
    "\n",
    "\n",
    "#detrended_data.drop[gdp]\n",
    "#detrended_data.drop[POILBRUESDM]\n",
    "\n",
    "detrended_data_two = pd.DataFrame(diff, columns=[\"diff_oil\"])\n",
    "detrended_data_three = pd.DataFrame(diff_gdp, columns=[\"diff_gdp\"]) #easier to manually merge\n",
    "\n",
    "detrended_data_two.to_csv(\"C:\\datasets\\oil diff.csv\")\n",
    "detrended_data_three.to_csv(\"C:\\datasets\\gdp diff.csv\")\n",
    "#print(detrended_data_two)\n",
    "#detrended_data_two = detrended_data_two.dropna()\n",
    "#print(detrended_data_two)\n",
    "#detrended_data_two[\"diff_GDP\"] = diff_gdp\n",
    "#print(detrended_data_two)"
   ]
  },
  {
   "cell_type": "code",
   "execution_count": 30,
   "metadata": {},
   "outputs": [
    {
     "name": "stderr",
     "output_type": "stream",
     "text": [
      "C:\\ProgramData\\Anaconda3\\lib\\site-packages\\statsmodels\\tsa\\base\\tsa_model.py:213: ValueWarning: An unsupported index was provided and will be ignored when e.g. forecasting.\n",
      "  warnings.warn('An unsupported index was provided and will be'\n",
      "C:\\ProgramData\\Anaconda3\\lib\\site-packages\\statsmodels\\tsa\\base\\tsa_model.py:213: ValueWarning: An unsupported index was provided and will be ignored when e.g. forecasting.\n",
      "  warnings.warn('An unsupported index was provided and will be'\n",
      "C:\\ProgramData\\Anaconda3\\lib\\site-packages\\statsmodels\\tsa\\base\\tsa_model.py:213: ValueWarning: An unsupported index was provided and will be ignored when e.g. forecasting.\n",
      "  warnings.warn('An unsupported index was provided and will be'\n"
     ]
    },
    {
     "name": "stdout",
     "output_type": "stream",
     "text": [
      "                               SARIMAX Results                                \n",
      "==============================================================================\n",
      "Dep. Variable:                    GDP   No. Observations:                  358\n",
      "Model:                 ARIMA(3, 1, 1)   Log Likelihood               -2293.769\n",
      "Date:                Wed, 22 Dec 2021   AIC                           4599.538\n",
      "Time:                        23:53:41   BIC                           4622.805\n",
      "Sample:                             0   HQIC                          4608.792\n",
      "                                - 358                                         \n",
      "Covariance Type:                  opg                                         \n",
      "===============================================================================\n",
      "                  coef    std err          z      P>|z|      [0.025      0.975]\n",
      "-------------------------------------------------------------------------------\n",
      "POILBREUSDM     8.1630      1.248      6.542      0.000       5.717      10.609\n",
      "ar.L1          -0.6968      0.515     -1.353      0.176      -1.706       0.313\n",
      "ar.L2          -0.1698      0.041     -4.147      0.000      -0.250      -0.090\n",
      "ar.L3          -0.1338      0.121     -1.102      0.270      -0.372       0.104\n",
      "ma.L1           0.7620      0.510      1.494      0.135      -0.238       1.762\n",
      "sigma2       2.227e+04    765.731     29.078      0.000    2.08e+04    2.38e+04\n",
      "===================================================================================\n",
      "Ljung-Box (Q):                       30.55   Jarque-Bera (JB):             43687.50\n",
      "Prob(Q):                              0.86   Prob(JB):                         0.00\n",
      "Heteroskedasticity (H):               7.12   Skew:                            -4.65\n",
      "Prob(H) (two-sided):                  0.00   Kurtosis:                        56.39\n",
      "===================================================================================\n",
      "\n",
      "Warnings:\n",
      "[1] Covariance matrix calculated using the outer product of gradients (complex-step).\n"
     ]
    }
   ],
   "source": [
    "#Fit ARIMA model to series\n",
    "#Uncomment/comment models as appropiate\n",
    "from statsmodels.tsa.arima.model import ARIMA\n",
    "\n",
    "#model = ARIMA(exog=truncated_data[\"POILBREUSDM\"], endog=truncated_data[\"GDP\"], order=(24, 0, 24))\n",
    "\n",
    "#model = ARIMA(exog=truncated_data[\"POILBREUSDM\"], endog=truncated_data[\"GDP\"], order=(24, 1, 0))\n",
    "#highest significant lag is 10, rerun with 10 lags\n",
    "\n",
    "model = ARIMA(exog=truncated_data[\"POILBREUSDM\"], endog=truncated_data[\"GDP\"], order=(3, 1, 1))\n",
    "res = model.fit()\n",
    "print(res.summary())\n",
    "#print(model.params)\n"
   ]
  },
  {
   "cell_type": "code",
   "execution_count": 20,
   "metadata": {},
   "outputs": [],
   "source": [
    "import numpy as np\n",
    "import statsmodels as sm\n",
    "import statsmodels.api as sm"
   ]
  },
  {
   "cell_type": "code",
   "execution_count": 21,
   "metadata": {},
   "outputs": [
    {
     "name": "stdout",
     "output_type": "stream",
     "text": [
      "           DATE  POILBREUSDM        GDP  Price_level  Diff_GDP  Diff_oil  \\\n",
      "0    01/01/1992    18.550000   9486.357    66.578685  0.000000  0.000000   \n",
      "1    01/02/1992    18.480000   9527.533    66.716169  0.137484 -0.070000   \n",
      "2    01/03/1992    17.590000   9606.143    66.801102  0.084933 -0.890000   \n",
      "3    01/04/1992    19.060000   9612.489    67.030025  0.228923  1.470000   \n",
      "4    01/05/1992    20.030000   9594.652    67.058037  0.028012  0.970000   \n",
      "..          ...          ...        ...          ...       ...       ...   \n",
      "353  01/06/2021    73.067273  19409.726   117.999898  0.628874  5.023939   \n",
      "354  01/07/2021    74.386818  19339.425   118.593639  0.593740  1.319545   \n",
      "355  01/08/2021    70.020909  19518.596   119.096085  0.502446 -4.365909   \n",
      "356  01/09/2021    74.598182  19577.018   119.569368  0.473283  4.577273   \n",
      "357  01/10/2021    83.650000  19874.681   120.321122  0.751754  9.051818   \n",
      "\n",
      "     Interest_Rate  \n",
      "0             4.03  \n",
      "1             4.06  \n",
      "2             3.98  \n",
      "3             3.73  \n",
      "4             3.82  \n",
      "..             ...  \n",
      "353           0.08  \n",
      "354           0.10  \n",
      "355           0.09  \n",
      "356           0.08  \n",
      "357           0.08  \n",
      "\n",
      "[358 rows x 7 columns]\n",
      "                            OLS Regression Results                            \n",
      "==============================================================================\n",
      "Dep. Variable:               Diff_GDP   R-squared:                       0.123\n",
      "Model:                            OLS   Adj. R-squared:                  0.116\n",
      "Method:                 Least Squares   F-statistic:                     16.57\n",
      "Date:                Wed, 22 Dec 2021   Prob (F-statistic):           4.24e-10\n",
      "Time:                        21:56:09   Log-Likelihood:                 157.25\n",
      "No. Observations:                 358   AIC:                            -306.5\n",
      "Df Residuals:                     354   BIC:                            -291.0\n",
      "Df Model:                           3                                         \n",
      "Covariance Type:            nonrobust                                         \n",
      "=================================================================================\n",
      "                    coef    std err          t      P>|t|      [0.025      0.975]\n",
      "---------------------------------------------------------------------------------\n",
      "const            -0.1624      0.083     -1.954      0.051      -0.326       0.001\n",
      "Price_level       0.0032      0.001      3.981      0.000       0.002       0.005\n",
      "Interest_Rate     0.0090      0.005      1.640      0.102      -0.002       0.020\n",
      "Diff_oil          0.0094      0.002      5.521      0.000       0.006       0.013\n",
      "==============================================================================\n",
      "Omnibus:                       83.025   Durbin-Watson:                   1.944\n",
      "Prob(Omnibus):                  0.000   Jarque-Bera (JB):              516.069\n",
      "Skew:                          -0.797   Prob(JB):                    8.65e-113\n",
      "Kurtosis:                       8.662   Cond. No.                         919.\n",
      "==============================================================================\n",
      "\n",
      "Warnings:\n",
      "[1] Standard Errors assume that the covariance matrix of the errors is correctly specified.\n"
     ]
    }
   ],
   "source": [
    "\n",
    "data5 = pd.read_csv(\"C:\\datasets\\POILBREUSDM5.csv\") #this a dataset variation that is more clean and has differences\n",
    "data5 = data5.dropna()\n",
    "print(data5)\n",
    "\n",
    "#exogeneous_variables = data5[\"GDP\"], data5[\"Price level\"], data5[\"Diff_GDP\"], data5[\"Diff_oil\"]\n",
    "exogeneous_variables = data5[[\"Price_level\", \"Interest_Rate\", \"Diff_oil\"]]\n",
    "endogeneous_variables = data5[\"Diff_GDP\"]\n",
    "exogeneous_variables = sm.add_constant(exogeneous_variables)\n",
    "model = sm.OLS(endogeneous_variables, exogeneous_variables)\n",
    "\n",
    "result = model.fit()\n",
    "\n",
    "print(result.summary())"
   ]
  },
  {
   "cell_type": "code",
   "execution_count": 22,
   "metadata": {},
   "outputs": [
    {
     "name": "stdout",
     "output_type": "stream",
     "text": [
      "                            OLS Regression Results                            \n",
      "==============================================================================\n",
      "Dep. Variable:               Diff_GDP   R-squared:                       0.123\n",
      "Model:                            OLS   Adj. R-squared:                  0.116\n",
      "Method:                 Least Squares   F-statistic:                     4.792\n",
      "Date:                Wed, 22 Dec 2021   Prob (F-statistic):            0.00276\n",
      "Time:                        22:35:35   Log-Likelihood:                 157.25\n",
      "No. Observations:                 358   AIC:                            -306.5\n",
      "Df Residuals:                     354   BIC:                            -291.0\n",
      "Df Model:                           3                                         \n",
      "Covariance Type:                  HAC                                         \n",
      "=================================================================================\n",
      "                    coef    std err          t      P>|t|      [0.025      0.975]\n",
      "---------------------------------------------------------------------------------\n",
      "const            -0.1624      0.136     -1.197      0.232      -0.429       0.104\n",
      "Price_level       0.0032      0.001      2.239      0.026       0.000       0.006\n",
      "Interest_Rate     0.0090      0.006      1.455      0.147      -0.003       0.021\n",
      "Diff_oil          0.0094      0.003      3.179      0.002       0.004       0.015\n",
      "==============================================================================\n",
      "Omnibus:                       83.025   Durbin-Watson:                   1.944\n",
      "Prob(Omnibus):                  0.000   Jarque-Bera (JB):              516.069\n",
      "Skew:                          -0.797   Prob(JB):                    8.65e-113\n",
      "Kurtosis:                       8.662   Cond. No.                         919.\n",
      "==============================================================================\n",
      "\n",
      "Warnings:\n",
      "[1] Standard Errors are heteroscedasticity and autocorrelation robust (HAC) using 24 lags and without small sample correction\n"
     ]
    },
    {
     "ename": "TypeError",
     "evalue": "'Int64Index' object is not callable",
     "output_type": "error",
     "traceback": [
      "\u001b[1;31m---------------------------------------------------------------------------\u001b[0m",
      "\u001b[1;31mTypeError\u001b[0m                                 Traceback (most recent call last)",
      "\u001b[1;32m<ipython-input-22-d8b872d9615e>\u001b[0m in \u001b[0;36m<module>\u001b[1;34m\u001b[0m\n\u001b[0;32m      3\u001b[0m \u001b[0mpredictions\u001b[0m \u001b[1;33m=\u001b[0m \u001b[1;33m[\u001b[0m\u001b[1;33m]\u001b[0m\u001b[1;33m\u001b[0m\u001b[1;33m\u001b[0m\u001b[0m\n\u001b[0;32m      4\u001b[0m \u001b[1;32mfor\u001b[0m \u001b[0mrow\u001b[0m \u001b[1;32min\u001b[0m \u001b[0mrange\u001b[0m\u001b[1;33m(\u001b[0m\u001b[1;36m1\u001b[0m\u001b[1;33m,\u001b[0m \u001b[1;36m359\u001b[0m\u001b[1;33m,\u001b[0m \u001b[1;36m1\u001b[0m\u001b[1;33m)\u001b[0m\u001b[1;33m:\u001b[0m\u001b[1;33m\u001b[0m\u001b[1;33m\u001b[0m\u001b[0m\n\u001b[1;32m----> 5\u001b[1;33m     \u001b[0mpredictions\u001b[0m \u001b[1;33m+=\u001b[0m \u001b[1;33m-\u001b[0m\u001b[1;36m0.1624\u001b[0m \u001b[1;33m+\u001b[0m \u001b[1;36m0.0032\u001b[0m \u001b[1;33m*\u001b[0m \u001b[0mexogeneous_variables\u001b[0m\u001b[1;33m[\u001b[0m\u001b[1;34m\"Price_level\"\u001b[0m\u001b[1;33m]\u001b[0m\u001b[1;33m.\u001b[0m\u001b[0mindex\u001b[0m\u001b[1;33m(\u001b[0m\u001b[0mrow\u001b[0m\u001b[1;33m)\u001b[0m\u001b[1;33m\u001b[0m\u001b[1;33m\u001b[0m\u001b[0m\n\u001b[0m\u001b[0;32m      6\u001b[0m \u001b[0mprint\u001b[0m\u001b[1;33m(\u001b[0m\u001b[0mpredictions\u001b[0m\u001b[1;33m)\u001b[0m\u001b[1;33m\u001b[0m\u001b[1;33m\u001b[0m\u001b[0m\n",
      "\u001b[1;31mTypeError\u001b[0m: 'Int64Index' object is not callable"
     ]
    }
   ],
   "source": [
    "result2 = result.get_robustcov_results(cov_type='HAC', use_t=None, maxlags=24)\n",
    "print(result2.summary())\n",
    "predictions = []\n",
    "#for row in range(1, 359, 1):\n",
    "#    predictions += -0.1624 + 0.0032 * exogeneous_variables[\"Price_level\"].index(row)\n",
    "#print(predictions)\n",
    "\n",
    "#uneeded - MSE (\"error\") already accounts for predictions"
   ]
  },
  {
   "cell_type": "code",
   "execution_count": null,
   "metadata": {},
   "outputs": [],
   "source": [
    "#Everything below this point was remade in R as there were significant technical issues getting the VAR and econml libraries to work\n",
    "\n",
    "from statsmodels.tsa.api import VAR\n",
    "import numpy as np\n",
    "data6 = pd.read_csv(\"C:\\datasets\\POILBREUSDM6.csv\")\n",
    "data7 = pd.read_csv(\"C:\\datasets\\POILBREUSDM7.csv\")\n",
    "data1 = pd.read_csv(\"C:\\datasets\\POILBREUSDM.csv\")\n",
    "\n",
    "#data6 = np.asarray(data6)\n",
    "#exogeneous_variables = data6[[\"Diff_oil\", \"Interest_Rate\", \"Price_level\"]]\n",
    "#endogeneous_variables = data6[\"Diff_GDP\"]\n",
    "#data6 = np.asarray(data6)\n",
    "model = VAR(data1)\n",
    "\n",
    "results3 = model.fit(2)\n",
    "print(results3.summary())"
   ]
  },
  {
   "cell_type": "code",
   "execution_count": null,
   "metadata": {},
   "outputs": [],
   "source": [
    "np.asarray(data6)"
   ]
  },
  {
   "cell_type": "code",
   "execution_count": null,
   "metadata": {},
   "outputs": [],
   "source": []
  },
  {
   "cell_type": "code",
   "execution_count": null,
   "metadata": {},
   "outputs": [],
   "source": [
    "import numpy as np\n",
    "import sklearn\n",
    "from econml.orf import DMLOrthoForest, DROrthoForest\n",
    "\n"
   ]
  },
  {
   "cell_type": "code",
   "execution_count": null,
   "metadata": {},
   "outputs": [],
   "source": []
  },
  {
   "cell_type": "code",
   "execution_count": null,
   "metadata": {},
   "outputs": [],
   "source": [
    "\n"
   ]
  },
  {
   "cell_type": "code",
   "execution_count": null,
   "metadata": {},
   "outputs": [],
   "source": []
  },
  {
   "cell_type": "code",
   "execution_count": null,
   "metadata": {},
   "outputs": [],
   "source": []
  },
  {
   "cell_type": "code",
   "execution_count": null,
   "metadata": {},
   "outputs": [],
   "source": []
  },
  {
   "cell_type": "code",
   "execution_count": null,
   "metadata": {},
   "outputs": [],
   "source": []
  },
  {
   "cell_type": "code",
   "execution_count": null,
   "metadata": {},
   "outputs": [],
   "source": []
  },
  {
   "cell_type": "code",
   "execution_count": null,
   "metadata": {},
   "outputs": [],
   "source": []
  },
  {
   "cell_type": "code",
   "execution_count": null,
   "metadata": {},
   "outputs": [],
   "source": []
  }
 ],
 "metadata": {
  "kernelspec": {
   "display_name": "Python 3",
   "language": "python",
   "name": "python3"
  },
  "language_info": {
   "codemirror_mode": {
    "name": "ipython",
    "version": 3
   },
   "file_extension": ".py",
   "mimetype": "text/x-python",
   "name": "python",
   "nbconvert_exporter": "python",
   "pygments_lexer": "ipython3",
   "version": "3.8.3"
  }
 },
 "nbformat": 4,
 "nbformat_minor": 4
}
